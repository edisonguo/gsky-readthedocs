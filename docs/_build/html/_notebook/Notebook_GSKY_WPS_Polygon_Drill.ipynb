{
 "cells": [
  {
   "cell_type": "markdown",
   "metadata": {},
   "source": [
    "## GSKY WPS Polygon Drill using python "
   ]
  },
  {
   "cell_type": "markdown",
   "metadata": {},
   "source": [
    "### GetCapabilities"
   ]
  },
  {
   "cell_type": "code",
   "execution_count": 1,
   "metadata": {},
   "outputs": [],
   "source": [
    "# Import python libraries\n",
    "\n",
    "\n",
    "#######################################################\n",
    "#   OWSLib is a Python package for client             #\n",
    "#   programming with Open Geospatial Consortium (OGC) #\n",
    "#   web service (hence OWS)interface standards,       # \n",
    "#   and their related content models.                 # \n",
    "#######################################################\n",
    "\n",
    "\n",
    "from owslib.wcs import WebCoverageService\n",
    "from owslib.wps import WebProcessingService\n",
    "from owslib.wps import printInputOutput\n",
    "from PIL import Image\n",
    "%matplotlib inline\n",
    "\n",
    "### Link to GSKY WPS\n",
    "\n",
    "gsky_url = 'http://130.56.242.16/ows/internal/wps'\n",
    "#gsky_url = 'http://130.56.242.16/ows/edge/generic_wps'"
   ]
  },
  {
   "cell_type": "code",
   "execution_count": 2,
   "metadata": {},
   "outputs": [
    {
     "data": {
      "text/plain": [
       "'GSKY WPS'"
      ]
     },
     "execution_count": 2,
     "metadata": {},
     "output_type": "execute_result"
    }
   ],
   "source": [
    "# Define the WPS\n",
    "\n",
    "wps = WebProcessingService(gsky_url, verbose=False, skip_caps=True)\n",
    "wps.getcapabilities()\n",
    "wps.identification.title"
   ]
  },
  {
   "cell_type": "code",
   "execution_count": 3,
   "metadata": {},
   "outputs": [
    {
     "name": "stdout",
     "output_type": "stream",
     "text": [
      "GSKY - A Scalable, Distributed Geospatial Data Service. https://geonetwork.nci.org.au/geonetwork/srv/eng/catalog.search#/metadata/dc9fb2db-8d6f-4b76-a734-93ac7fbc9201\n",
      "WPS\n",
      "None\n",
      "1.0.0\n"
     ]
    }
   ],
   "source": [
    "# View the wps abstract\n",
    "\n",
    "print(wps.identification.abstract)\n",
    "print(wps.identification.type)\n",
    "print(wps.identification.accessconstraints)\n",
    "print(wps.identification.version)"
   ]
  },
  {
   "cell_type": "code",
   "execution_count": 4,
   "metadata": {},
   "outputs": [
    {
     "name": "stdout",
     "output_type": "stream",
     "text": [
      "GetCapabilities\n",
      "DescribeProcess\n",
      "Execute\n"
     ]
    }
   ],
   "source": [
    "# Print WPS operations \n",
    "\n",
    "for operation in wps.operations:\n",
    "    print(operation.name)"
   ]
  },
  {
   "cell_type": "code",
   "execution_count": 5,
   "metadata": {},
   "outputs": [
    {
     "name": "stdout",
     "output_type": "stream",
     "text": [
      "LS8 NBART Polygon Drill Raw Bands\n",
      "LS8 NBART Pixel Drill Raw Bands\n",
      "LS8 NBART Polygon Drill NDVI NDWI\n",
      "LS8 NBART Pixel Drill NDVI NDWI\n"
     ]
    }
   ],
   "source": [
    "# List the WPS processes available\n",
    "\n",
    "for process in wps.processes:\n",
    "    print(process.identifier)"
   ]
  },
  {
   "cell_type": "code",
   "execution_count": 6,
   "metadata": {},
   "outputs": [
    {
     "name": "stdout",
     "output_type": "stream",
     "text": [
      "LS8 NBART Polygon Drill Raw Bands LS8 NBART Polygon Drill (Raw bands)\n",
      "LS8 NBART Pixel Drill Raw Bands LS8 NBART Pixel Drill (Raw bands)\n",
      "LS8 NBART Polygon Drill NDVI NDWI LS8 NBART Polygon Drill (NDVI NDWI)\n",
      "LS8 NBART Pixel Drill NDVI NDWI LS8 NBART Pixel Drill (NDVI NDWI)\n"
     ]
    }
   ],
   "source": [
    "# List the WPS processes available\n",
    "\n",
    "for process in wps.processes:\n",
    "    print(process.identifier, process.title)"
   ]
  },
  {
   "cell_type": "markdown",
   "metadata": {},
   "source": [
    "### DescribeProcess\n",
    "\n",
    "Determine how a specific process needs to be invoked - i.e. what are its input parameters, and output result:"
   ]
  },
  {
   "cell_type": "code",
   "execution_count": 7,
   "metadata": {},
   "outputs": [],
   "source": [
    "wps = WebProcessingService(gsky_url, verbose=False, skip_caps=True)\n",
    "process = wps.describeprocess('LS8 NBART Polygon Drill Raw Bands')"
   ]
  },
  {
   "cell_type": "code",
   "execution_count": 8,
   "metadata": {},
   "outputs": [
    {
     "data": {
      "text/plain": [
       "'LS8 NBART Polygon Drill Raw Bands'"
      ]
     },
     "execution_count": 8,
     "metadata": {},
     "output_type": "execute_result"
    }
   ],
   "source": [
    "process.identifier"
   ]
  },
  {
   "cell_type": "code",
   "execution_count": 9,
   "metadata": {},
   "outputs": [
    {
     "name": "stdout",
     "output_type": "stream",
     "text": [
      "Time Series Output Result ComplexData <owslib.wps.ComplexData object at 0x122a76860>\n"
     ]
    }
   ],
   "source": [
    "for output in process.processOutputs:\n",
    "    print(output.title, output.identifier, output.dataType, output.defaultValue)   "
   ]
  },
  {
   "cell_type": "code",
   "execution_count": 10,
   "metadata": {},
   "outputs": [
    {
     "name": "stdout",
     "output_type": "stream",
     "text": [
      " identifier=start_datetime, title=Start datetime, abstract=None, data type=ComplexData\n",
      " Supported Value: mimeType=application/vnd.geo+json, encoding=None, schema=http://www.w3.org/TR/xmlschema-2/#dateTime\n",
      " Default Value: mimeType=application/vnd.geo+json, encoding=None, schema=http://www.w3.org/TR/xmlschema-2/#dateTime \n",
      " minOccurs=0, maxOccurs=1\n",
      " identifier=end_datetime, title=End datetime, abstract=None, data type=ComplexData\n",
      " Supported Value: mimeType=application/vnd.geo+json, encoding=None, schema=http://www.w3.org/TR/xmlschema-2/#dateTime\n",
      " Default Value: mimeType=application/vnd.geo+json, encoding=None, schema=http://www.w3.org/TR/xmlschema-2/#dateTime \n",
      " minOccurs=0, maxOccurs=1\n",
      " identifier=geometry, title=Polygon geometry, abstract=None, data type=ComplexData\n",
      " Supported Value: mimeType=application/vnd.geo+json, encoding=None, schema=http://geojson.org/geojson-spec.html#polygon\n",
      " Default Value: mimeType=application/vnd.geo+json, encoding=None, schema=http://geojson.org/geojson-spec.html#polygon \n",
      " minOccurs=1, maxOccurs=1\n"
     ]
    }
   ],
   "source": [
    "for input in process.dataInputs:\n",
    "    printInputOutput(input)"
   ]
  },
  {
   "cell_type": "code",
   "execution_count": 11,
   "metadata": {},
   "outputs": [
    {
     "name": "stdout",
     "output_type": "stream",
     "text": [
      " identifier=geometry, title=Polygon geometry, abstract=None, data type=ComplexData\n",
      " Supported Value: mimeType=application/vnd.geo+json, encoding=None, schema=http://geojson.org/geojson-spec.html#polygon\n",
      " Default Value: mimeType=application/vnd.geo+json, encoding=None, schema=http://geojson.org/geojson-spec.html#polygon \n",
      " minOccurs=1, maxOccurs=1\n"
     ]
    }
   ],
   "source": [
    "for output in process.processOutputs:\n",
    "    printInputOutput(input)"
   ]
  },
  {
   "cell_type": "markdown",
   "metadata": {},
   "source": [
    "### Execute\n",
    "\n",
    "Submit an execute request (extraction of a climate index variable over a specific GML polygon, for a given period of time), monitor the execution until complete:"
   ]
  },
  {
   "cell_type": "code",
   "execution_count": 29,
   "metadata": {},
   "outputs": [
    {
     "name": "stdout",
     "output_type": "stream",
     "text": [
      "date,Red,Nir\n",
      "2016-02-15T02:16:33.000Z,1887.620359,2746.580242\n",
      "2016-02-15T02:16:57.000Z,1906.003066,2775.218789\n",
      "2016-02-22T02:22:42.000Z,,\n",
      "2016-02-22T02:23:05.000Z,,\n",
      "2016-02-24T02:10:20.000Z,,\n",
      "2016-02-24T02:10:44.000Z,,\n",
      "2016-03-02T02:16:31.000Z,1937.491677,2795.786958\n",
      "2016-03-02T02:16:55.000Z,1917.746013,2800.477701\n",
      "2016-03-09T02:22:40.000Z,,\n",
      "2016-03-09T02:23:04.000Z,,\n",
      "2016-03-11T02:10:18.000Z,,\n",
      "2016-03-11T02:10:42.000Z,,\n",
      "2016-03-18T02:16:26.000Z,2009.859653,2866.939242\n",
      "2016-03-18T02:16:49.000Z,1989.427765,2865.954440\n",
      "2016-03-25T02:22:32.000Z,,\n",
      "2016-03-25T02:22:56.000Z,,\n",
      "2016-03-27T02:10:09.000Z,,\n",
      "2016-03-27T02:10:33.000Z,,\n",
      "2016-04-03T02:16:16.000Z,1871.431702,2669.126961\n",
      "2016-04-03T02:16:40.000Z,1878.737229,2700.615954\n",
      "2016-04-10T02:22:25.000Z,,\n",
      "2016-04-10T02:22:49.000Z,,\n",
      "2016-04-12T02:10:03.000Z,,\n",
      "2016-04-12T02:10:27.000Z,,\n",
      "2016-04-19T02:16:10.000Z,1986.719429,2766.400233\n",
      "2016-04-19T02:16:34.000Z,2087.038900,2903.084727\n",
      "2016-04-26T02:22:19.000Z,,\n",
      "2016-04-26T02:22:43.000Z,,\n",
      "2016-04-28T02:10:00.000Z,,\n",
      "2016-04-28T02:10:24.000Z,,\n",
      "2016-05-05T02:16:14.000Z,1806.244446,2653.480404\n",
      "2016-05-05T02:16:38.000Z,1805.962034,2704.668503\n",
      "2016-05-12T02:22:20.000Z,,\n",
      "2016-05-12T02:22:44.000Z,,\n",
      "2016-05-14T02:09:59.000Z,,\n",
      "2016-05-14T02:10:23.000Z,,\n",
      "2016-05-21T02:16:13.000Z,8044.116359,7719.370927\n",
      "2016-05-21T02:16:37.000Z,8015.005028,7631.987520\n",
      "2016-05-28T02:22:27.000Z,,\n",
      "2016-05-28T02:22:51.000Z,,\n",
      "2016-05-30T02:10:06.000Z,,\n",
      "2016-05-30T02:10:29.000Z,,\n",
      "2016-06-06T02:16:18.000Z,2603.428695,3384.737055\n",
      "2016-06-06T02:16:42.000Z,3167.940727,3893.489440\n",
      "2016-06-13T02:22:30.000Z,,\n",
      "2016-06-13T02:22:54.000Z,,\n",
      "2016-06-15T02:10:08.000Z,,\n",
      "2016-06-15T02:10:32.000Z,,\n",
      "2016-06-22T02:16:23.000Z,1130.373659,2721.646486\n",
      "2016-06-22T02:16:47.000Z,1135.094857,2769.031927\n",
      "2016-06-29T02:22:38.000Z,,\n",
      "2016-06-29T02:23:02.000Z,,\n",
      "2016-07-01T02:10:17.000Z,,\n",
      "2016-07-01T02:10:41.000Z,,\n",
      "2016-07-08T02:16:31.000Z,1757.489084,3145.587641\n",
      "2016-07-08T02:16:55.000Z,1463.544274,2889.595417\n",
      "2016-07-15T02:22:45.000Z,,\n",
      "2016-07-15T02:23:09.000Z,,\n",
      "2016-07-17T02:10:24.000Z,,\n",
      "2016-07-17T02:10:48.000Z,,\n",
      "2016-07-24T02:16:37.000Z,869.301609,3444.046237\n",
      "2016-07-24T02:17:01.000Z,881.852222,3441.096096\n",
      "2016-07-31T02:22:49.000Z,,\n",
      "2016-07-31T02:23:13.000Z,,\n",
      "2016-08-02T02:10:28.000Z,,\n",
      "2016-08-02T02:10:51.000Z,,\n",
      "2016-08-09T02:16:39.000Z,1774.172309,4018.995902\n",
      "2016-08-09T02:17:03.000Z,2121.112196,4220.202734\n",
      "2016-08-16T02:22:52.000Z,,\n",
      "2016-08-16T02:23:16.000Z,,\n",
      "2016-08-18T02:10:32.000Z,,\n",
      "2016-08-18T02:10:56.000Z,,\n",
      "2016-08-25T02:16:46.000Z,825.829138,3452.672874\n",
      "2016-08-25T02:17:10.000Z,829.009577,3465.701279\n",
      "2016-09-01T02:22:59.000Z,,\n",
      "2016-09-01T02:23:23.000Z,,\n",
      "2016-09-03T02:10:38.000Z,,\n",
      "2016-09-03T02:11:02.000Z,,\n",
      "2016-09-10T02:16:50.000Z,883.706222,3286.153570\n",
      "2016-09-10T02:17:14.000Z,894.546829,3301.109320\n",
      "2016-09-17T02:23:02.000Z,,\n",
      "2016-09-17T02:23:26.000Z,,\n",
      "2016-09-19T02:10:40.000Z,,\n",
      "2016-09-19T02:11:04.000Z,,\n",
      "2016-09-26T02:16:51.000Z,1024.840847,2933.870570\n",
      "2016-09-26T02:17:15.000Z,1007.594430,2962.941557\n",
      "2016-10-03T02:23:03.000Z,,\n",
      "2016-10-03T02:23:27.000Z,,\n",
      "2016-10-05T02:10:43.000Z,,\n",
      "2016-10-05T02:11:06.000Z,,\n",
      "2016-10-12T02:16:56.000Z,1325.660470,2645.647880\n",
      "2016-10-12T02:17:20.000Z,1319.880195,2693.013161\n",
      "2016-10-19T02:23:08.000Z,,\n",
      "2016-10-19T02:23:32.000Z,,\n",
      "2016-10-21T02:10:47.000Z,,\n",
      "2016-10-21T02:11:11.000Z,,\n",
      "\n"
     ]
    }
   ],
   "source": [
    "import json\n",
    "def get_request(process_id, start_datetime, end_datetime, geometry):\n",
    "    return\"\"\"\n",
    "<?xml version=\"1.0\" encoding=\"UTF-8\"?>\n",
    "<wps:Execute version=\"1.0.0\" service=\"WPS\" xmlns:xsi=\"http://www.w3.org/2001/XMLSchema-instance\" xmlns=\"http://www.opengis.net/wps/1.0.0\" xmlns:wfs=\"http://www.opengis.net/wfs\" xmlns:wps=\"http://www.opengis.net/wps/1.0.0\" xmlns:ows=\"http://www.opengis.net/ows/1.1\" xmlns:gml=\"http://www.opengis.net/gml\" xmlns:ogc=\"http://www.opengis.net/ogc\" xmlns:wcs=\"http://www.opengis.net/wcs/1.1.1\" xmlns:xlink=\"http://www.w3.org/1999/xlink\" xsi:schemaLocation=\"http://www.opengis.net/wps/1.0.0 http://schemas.opengis.net/wps/1.0.0/wpsAll.xsd\">\n",
    "  <ows:Identifier>%s</ows:Identifier>\n",
    "  <wps:DataInputs>\n",
    "    <wps:Input>\n",
    "      <ows:Identifier>start_datetime</ows:Identifier>\n",
    "      <wps:Data>\n",
    "        <wps:ComplexData>{\"type\":\"object\",\"properties\":{\"timestamp\":{\"type\":\"string\",\"format\":\"date-time\",\"date-time\":\"%s\"}}}</wps:ComplexData>\n",
    "      </wps:Data>\n",
    "    </wps:Input>\n",
    "    <wps:Input>\n",
    "      <ows:Identifier>end_datetime</ows:Identifier>\n",
    "      <wps:Data>\n",
    "        <wps:ComplexData>{\"type\":\"object\",\"properties\":{\"timestamp\":{\"type\":\"string\",\"format\":\"date-time\",\"date-time\":\"%s\"}}}</wps:ComplexData>\n",
    "      </wps:Data>\n",
    "    </wps:Input>\n",
    "    <wps:Input>\n",
    "      <ows:Identifier>geometry</ows:Identifier>\n",
    "      <wps:Data>\n",
    "        <wps:ComplexData>{\"type\":\"FeatureCollection\",\"features\":[{\"type\":\"Feature\",\"geometry\":{\"type\":\"Polygon\",\"coordinates\":[[%s]]}}]}</wps:ComplexData>\n",
    "      </wps:Data>\n",
    "    </wps:Input>\n",
    "  </wps:DataInputs>\n",
    "  <wps:ResponseForm>\n",
    "    <wps:ResponseDocument storeExecuteResponse=\"true\" status=\"true\"/>\n",
    "  </wps:ResponseForm>\n",
    "</wps:Execute>\n",
    "\"\"\" % (process_id, start_datetime, end_datetime, geometry)\n",
    "\n",
    "req = get_request(\"LS8 NBART Polygon Drill Raw Bands\", \"2016-02-15T00:00\", \"2016-10-22T00:00\", \"[114.4,-28.1],[114.8,-28.13],[114.8,-27.94],[114.4,-27.94],[114.4,-28.12]\")\n",
    "\n",
    "execution = wps.execute(None, None, request=req, mode='sync', output=[('output', True)])\n",
    "outputRaw = execution.processOutputs[0].data[0]\n",
    "output = json.loads(outputRaw)\n",
    "\n",
    "# output.data is the csv payload returned from the polygon drill WPS\n",
    "print(output['data'])\n"
   ]
  },
  {
   "cell_type": "markdown",
   "metadata": {},
   "source": [
    "This can also be done using the command line via POST:"
   ]
  },
  {
   "cell_type": "code",
   "execution_count": 15,
   "metadata": {},
   "outputs": [
    {
     "data": {
      "text/plain": [
       "0"
      ]
     },
     "execution_count": 15,
     "metadata": {},
     "output_type": "execute_result"
    }
   ],
   "source": [
    "import subprocess\n",
    "\n",
    "subprocess.call(['curl', '-X', 'POST', '-d', '@payload.xml', '-o', 'result_22nov.json', 'http://130.56.242.16/ows/internal/wps?service=WPS'])"
   ]
  },
  {
   "cell_type": "markdown",
   "metadata": {},
   "source": [
    "### Plotting output of WPS request"
   ]
  },
  {
   "cell_type": "code",
   "execution_count": 17,
   "metadata": {},
   "outputs": [],
   "source": [
    "# Import libraries\n",
    "\n",
    "import csv\n",
    "import numpy as np\n",
    "import datetime as dt\n",
    "import matplotlib.dates as mdates\n",
    "\n",
    "from bokeh.layouts import gridplot\n",
    "from bokeh.plotting import figure, show, output_file\n"
   ]
  },
  {
   "cell_type": "code",
   "execution_count": 18,
   "metadata": {},
   "outputs": [],
   "source": [
    "# extract the data we want to plot\n",
    "\n",
    "results = []\n",
    "with open('result_long.txt', newline='') as inputfile:\n",
    "    for row in csv.reader(inputfile):\n",
    "        results.append(row)\n",
    "\n",
    "orig_dates = results[0::5]\n",
    "orig_PV = results[1::5]\n",
    "orig_NPV = results[2::5]\n",
    "orig_BS = results[3::5]\n",
    "orig_Total = results[4::5]\n",
    "\n",
    "dates_array = np.asarray([item for sublist in orig_dates for item in sublist])\n",
    "PV_array = np.asarray([item for sublist in orig_PV for item in sublist])\n",
    "NPV_array = np.asarray([item for sublist in orig_NPV for item in sublist])\n",
    "BS_array = np.asarray([item for sublist in orig_BS for item in sublist])\n",
    "Total_array = np.asarray([item for sublist in orig_Total for item in sublist])\n",
    "\n",
    "PV = PV_array.astype(np.float)\n",
    "NPV = NPV_array.astype(np.float)\n",
    "BS = BS_array.astype(np.float)\n",
    "Total = Total_array.astype(np.float)\n",
    "\n",
    "# make dates python plottable\n",
    "dt_dates = [dt.datetime.strptime(date,'%Y-%m-%dT%H:%M:%S.000Z').date() for date in dates_array ]\n",
    "dates = mdates.date2num(list(dt_dates))"
   ]
  },
  {
   "cell_type": "markdown",
   "metadata": {},
   "source": [
    "**Plotting our time-series using Bokeh** "
   ]
  },
  {
   "cell_type": "code",
   "execution_count": 19,
   "metadata": {},
   "outputs": [],
   "source": [
    "######################################################################################################\n",
    "#                                                                                                    #\n",
    "#   Bokeh is an interactive visualization library that targets modern web browsers for presentation. #\n",
    "#   Its goal is to provide elegant, concise construction of versatile graphics, and to extend this   #\n",
    "#   capability with high-performance interactivity over very large or streaming datasets.            #\n",
    "#                                                                                                    #\n",
    "#   For more information about Bokeh, please visit https://bokeh.pydata.org/en/latest/               #\n",
    "#                                                                                                    #\n",
    "######################################################################################################\n",
    "\n",
    "## Plot PV NPV BS Total all on the same graph\n",
    "\n",
    "p = figure(x_axis_type=\"datetime\", title=\"8-day Fractional Cover Drill\", plot_height=800, plot_width=1600)\n",
    "p.xgrid.grid_line_color=None\n",
    "p.background_fill_color = \"beige\"\n",
    "p.background_fill_alpha = 0.5\n",
    "p.ygrid.grid_line_alpha=0.5\n",
    "p.xaxis.axis_label = 'Time'\n",
    "p.yaxis.axis_label = '%'\n",
    "\n",
    "p.line(dt_dates, PV, color = 'green', legend='PV')\n",
    "p.line(dt_dates, NPV, color = 'blue', legend='NPV')\n",
    "p.line(dt_dates, BS, color = 'red', legend='BS')\n",
    "p.line(dt_dates, Total, color = 'orange', legend='Total')\n",
    "\n",
    "show(p)"
   ]
  },
  {
   "cell_type": "code",
   "execution_count": 20,
   "metadata": {},
   "outputs": [],
   "source": [
    "## Plot seperate graphs for each of PV NPV BS Total\n",
    "\n",
    "from bokeh.plotting import figure, show\n",
    "from bokeh.palettes import Spectral6\n",
    "from bokeh.models import ColumnDataSource, DataRange1d, Plot, LinearAxis, Grid, Legend, LegendItem\n",
    "from bokeh.layouts import row, column, gridplot\n",
    "\n",
    "p1 = figure(x_axis_type=\"datetime\", title=\"PV\", plot_height=350, plot_width=800)\n",
    "p1.xgrid.grid_line_color=None\n",
    "#p1.background_fill_color = \"beige\"\n",
    "#p1.background_fill_alpha = 0.5\n",
    "p1.ygrid.grid_line_alpha=0.5\n",
    "p1.xaxis.axis_label = 'Time'\n",
    "p1.yaxis.axis_label = '%'\n",
    "p1.line(dt_dates, PV, color = 'green')#, legend='PV')\n",
    "\n",
    "p2 = figure(x_axis_type=\"datetime\", title=\"NPV\", plot_height=350, plot_width=800)\n",
    "p2.xgrid.grid_line_color=None\n",
    "#p2.background_fill_color = \"beige\"\n",
    "#p2.background_fill_alpha = 0.5\n",
    "p2.ygrid.grid_line_alpha=0.5\n",
    "p2.xaxis.axis_label = 'Time'\n",
    "p2.yaxis.axis_label = '%'\n",
    "p2.line(dt_dates, NPV, color = 'blue')#, legend='NPV')\n",
    "\n",
    "p3 = figure(x_axis_type=\"datetime\", title=\"BS\", plot_height=350, plot_width=800)\n",
    "p3.xgrid.grid_line_color=None\n",
    "p3.ygrid.grid_line_alpha=0.5\n",
    "p3.xaxis.axis_label = 'Time'\n",
    "p3.yaxis.axis_label = '%'\n",
    "p3.line(dt_dates, BS, color = 'red')#, legend='BS')\n",
    "\n",
    "p4 = figure(x_axis_type=\"datetime\", title=\"Total\", plot_height=350, plot_width=800)\n",
    "p4.xgrid.grid_line_color=None\n",
    "p4.ygrid.grid_line_alpha=0.5\n",
    "p4.xaxis.axis_label = 'Time'\n",
    "p4.yaxis.axis_label = '%'\n",
    "p4.line(dt_dates, Total, color = 'orange')#, legend='Total')\n",
    "\n",
    "p = gridplot([[p1,p2],[p3,p4]])\n",
    "\n",
    "show(p)\n"
   ]
  }
 ],
 "metadata": {
  "kernelspec": {
   "display_name": "Python [default]",
   "language": "python",
   "name": "python3"
  },
  "language_info": {
   "codemirror_mode": {
    "name": "ipython",
    "version": 3
   },
   "file_extension": ".py",
   "mimetype": "text/x-python",
   "name": "python",
   "nbconvert_exporter": "python",
   "pygments_lexer": "ipython3",
   "version": "3.6.6"
  }
 },
 "nbformat": 4,
 "nbformat_minor": 2
}
